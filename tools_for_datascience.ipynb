{
 "cells": [
  {
   "cell_type": "markdown",
   "metadata": {},
   "source": [
    "<center>\n",
    "    <img src=\"https://cf-courses-data.s3.us.cloud-object-storage.appdomain.cloud/IBMDeveloperSkillsNetwork-DS0105EN-SkillsNetwork/labs/Module2/images/SN_web_lightmode.png\" width=\"300\" alt=\"cognitiveclass.ai logo\">\n",
    "</center>\n"
   ]
  },
  {
   "cell_type": "markdown",
   "metadata": {},
   "source": [
    "#### Add your code below following the instructions given in the course\n"
   ]
  },
  {
   "cell_type": "markdown",
   "metadata": {},
   "source": [
    "Data science "
   ]
  },
  {
   "cell_type": "markdown",
   "metadata": {},
   "source": [
    "The aim is to give a brief introduction on data science its languages and important librarys that are used by data scientists"
   ]
  },
  {
   "cell_type": "markdown",
   "metadata": {
    "tags": []
   },
   "source": [
    "LIST OF DATA SCIENCE LANGUAGES:\n",
    "1.Python\n",
    "2.R language\n",
    "3.SQL\n",
    "4.scala\n",
    "5.Ruby\n"
   ]
  },
  {
   "cell_type": "markdown",
   "metadata": {},
   "source": [
    "Some of the important librarys in data science are:\n",
    "\n",
    "1.NumPy\n",
    "2.pandas\n",
    "3.seaborn\n",
    "4.matplotlib\n",
    "5.tensorflow"
   ]
  },
  {
   "cell_type": "markdown",
   "metadata": {},
   "source": [
    "TOOLS OF DATA SCIENCE:\n",
    "1.Jupyter Notebook\n",
    "2.Rstudio\n",
    "3.Excel\n",
    "4.Apache Spark\n",
    "5.Git"
   ]
  },
  {
   "cell_type": "markdown",
   "metadata": {},
   "source": [
    "Arithmetic Expression Examples\n",
    "\n",
    "In mathematics and computer programming, arithmetic expressions are fundamental to performing mathematical operations. These expressions involve various mathematical operators, such as addition, subtraction, multiplication, and division. They are used to evaluate and calculate numerical values.\n",
    "\n",
    "Arithmetic expressions can be as simple as adding two numbers or as complex as solving equations. In this section, we will explore a variety of arithmetic expression examples to illustrate different mathematical operations and concepts.\n",
    "\n",
    "Let's dive into some basic arithmetic expressions to get a better understanding of how they work and how they can be used in mathematics and programming."
   ]
  },
  {
   "cell_type": "markdown",
   "metadata": {},
   "source": [
    "MULTYPLYING AND ADDING NUMBERS"
   ]
  },
  {
   "cell_type": "code",
   "execution_count": 1,
   "metadata": {
    "tags": []
   },
   "outputs": [
    {
     "name": "stdout",
     "output_type": "stream",
     "text": [
      "Multiplication result: 15\n",
      "Addition result: 8\n"
     ]
    }
   ],
   "source": [
    "# Define two numbers\n",
    "num1 = 5\n",
    "num2 = 3\n",
    "\n",
    "# Multiply the numbers\n",
    "result_multiply = num1 * num2\n",
    "\n",
    "# Add the numbers\n",
    "result_add = num1 + num2\n",
    "\n",
    "# Display the results\n",
    "print(f\"Multiplication result: {result_multiply}\")\n",
    "print(f\"Addition result: {result_add}\")\n"
   ]
  },
  {
   "cell_type": "markdown",
   "metadata": {},
   "source": [
    "CODE TO CONVERT MINUTES TO HOURS"
   ]
  },
  {
   "cell_type": "code",
   "execution_count": 2,
   "metadata": {
    "tags": []
   },
   "outputs": [
    {
     "name": "stdout",
     "output_type": "stream",
     "text": [
      "120 minutes is equal to 2.0 hours\n"
     ]
    }
   ],
   "source": [
    "# Input: Number of minutes\n",
    "minutes = 120  # Change this to your desired number of minutes\n",
    "\n",
    "# Convert minutes to hours\n",
    "hours = minutes / 60\n",
    "\n",
    "# Display the result\n",
    "print(f\"{minutes} minutes is equal to {hours} hours\")\n"
   ]
  },
  {
   "cell_type": "markdown",
   "metadata": {},
   "source": [
    "AUTHOR'S NAME:MOHD AFHAM"
   ]
  },
  {
   "cell_type": "code",
   "execution_count": null,
   "metadata": {},
   "outputs": [],
   "source": []
  }
 ],
 "metadata": {
  "kernelspec": {
   "display_name": "Python",
   "language": "python",
   "name": "conda-env-python-py"
  },
  "language_info": {
   "codemirror_mode": {
    "name": "ipython",
    "version": 3
   },
   "file_extension": ".py",
   "mimetype": "text/x-python",
   "name": "python",
   "nbconvert_exporter": "python",
   "pygments_lexer": "ipython3",
   "version": "3.7.12"
  }
 },
 "nbformat": 4,
 "nbformat_minor": 4
}
